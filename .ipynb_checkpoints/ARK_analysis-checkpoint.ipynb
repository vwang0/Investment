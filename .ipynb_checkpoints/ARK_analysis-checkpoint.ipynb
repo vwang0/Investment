{
 "cells": [
  {
   "cell_type": "code",
   "execution_count": 1,
   "metadata": {},
   "outputs": [],
   "source": [
    "from datetime import datetime, timedelta, date\n",
    "today=datetime.today()\n",
    "d1=today.strftime(\"%d-%m-%Y\")"
   ]
  },
  {
   "cell_type": "code",
   "execution_count": 4,
   "metadata": {},
   "outputs": [],
   "source": [
    "import pandas_market_calendars as mcal\n",
    "nyse = mcal.get_calendar('NYSE')\n",
    "early = nyse.schedule(start_date='2021-02-01', end_date=d1)\n",
    "current_trading_date=early['market_open'][-1].strftime(\"%d-%m-%Y\")\n",
    "prev_trading_date=early['market_open'][-1]-timedelta(days=1)\n",
    "prev_trading_date=prev_trading_date.strftime(\"%d-%m-%Y\")\n",
    "\n",
    "child_directory=prev_trading_date"
   ]
  },
  {
   "cell_type": "code",
   "execution_count": 6,
   "metadata": {},
   "outputs": [
    {
     "data": {
      "text/plain": [
       "'D:\\\\NETDrive\\\\GH\\\\Investment\\\\data\\\\30-09-2021'"
      ]
     },
     "execution_count": 6,
     "metadata": {},
     "output_type": "execute_result"
    }
   ],
   "source": [
    "import os\n",
    "directory=d1\n",
    "parent_dir=r'D:\\NETDrive\\GH\\Investment\\data'\n",
    "path=os.path.join(parent_dir, directory)\n",
    "prev_path=os.path.join(parent_dir, child_directory)\n",
    "prev_path"
   ]
  },
  {
   "cell_type": "code",
   "execution_count": 7,
   "metadata": {},
   "outputs": [],
   "source": [
    "import requests\n",
    "import csv\n",
    "import pandas as pd"
   ]
  },
  {
   "cell_type": "code",
   "execution_count": 14,
   "metadata": {},
   "outputs": [],
   "source": [
    "CSV_URL=['https://ark-funds.com/wp-content/fundsiteliterature/csv/ARK_INNOVATION_ETF_ARKK_HOLDINGS.csv',\n",
    "'https://ark-funds.com/wp-content/fundsiteliterature/csv/ARK_AUTONOMOUS_TECHNOLOGY_&_ROBOTICS_ETF_ARKQ_HOLDINGS.csv',\n",
    "'https://ark-funds.com/wp-content/fundsiteliterature/csv/ARK_NEXT_GENERATION_INTERNET_ETF_ARKW_HOLDINGS.csv',\n",
    "'https://ark-funds.com/wp-content/fundsiteliterature/csv/ARK_GENOMIC_REVOLUTION_MULTISECTOR_ETF_ARKG_HOLDINGS.csv',\n",
    "'https://ark-funds.com/wp-content/fundsiteliterature/csv/ARK_FINTECH_INNOVATION_ETF_ARKF_HOLDINGS.csv']\n",
    "\n",
    "# CSV_URL=['https://ark-funds.com/wp-content/fundsiteliterature/csv/ARK_INNOVATION_ETF_ARKK_HOLDINGS.csv',\n",
    "#          'https://ark-funds.com/wp-content/fundsiteliterature/csv/ARK_GENOMIC_REVOLUTION_MULTISECTOR_ETF_ARKG_HOLDINGS.csv']\n",
    "file_name_list=['\\ARKK.csv','\\ARKG.csv']"
   ]
  },
  {
   "cell_type": "code",
   "execution_count": null,
   "metadata": {},
   "outputs": [],
   "source": []
  },
  {
   "cell_type": "code",
   "execution_count": 15,
   "metadata": {},
   "outputs": [],
   "source": [
    "\n",
    "for i, k in zip(CSV_URL, file_name_list):\n",
    "    with requests.Session() as s:\n",
    "        download = s.get(i)\n",
    "\n",
    "        decoded_content = download.content.decode('utf-8')\n",
    "\n",
    "        cr = csv.reader(decoded_content.splitlines(), delimiter=',')    \n",
    "        df = pd.DataFrame(list(cr))\n",
    "       \n",
    "    new_header=df.iloc[0]\n",
    "    dff=df[1:]\n",
    "    dff.columns=new_header\n",
    "    dff=dff.dropna(axis=0)\n",
    "\n",
    "    dff = dff[dff['date']!= '']\n",
    "    \n",
    "    file_date0=dff['date'].unique()[0]\n",
    "    file_date0=pd.to_datetime(file_date0)\n",
    "    file_date0=str(file_date0.strftime(\"%d-%m-%Y\"))\n",
    "    file_name0=str(dff['fund'].unique()[0])\n",
    "    \n",
    "    target_parent_directory0=r'D:\\Ark Invest Csv Automated Download'\n",
    "\n",
    "    path0=os.path.join(target_parent_directory0, file_date0)\n",
    "    print(path0)\n",
    "    if not os.path.exists(path0):\n",
    "        os.mkdir(path0)\n",
    "\n",
    "    file_name_full0=path0 + '\\\\' + file_name0 + '.csv'\n",
    "    dff.to_csv(file_name_full0, index=False)\n",
    "    \n",
    "    df_prev=pd.read_csv(prev_path + k)\n",
    "    df_prev=df_prev.dropna(axis=0)\n",
    "    df_prev = df_prev[df_prev['date']!= '']\n",
    "    df_prev.head()\n",
    "    if dff['ticker'].tolist().sort()==df_prev['ticker'].tolist().sort():\n",
    "        df_prev=df_prev.loc[0:,('ticker','shares')]\n",
    "        df_merged=dff.merge(df_prev, on='ticker', how='right')\n",
    "        df_merged['shares_x']=df_merged['shares_x'].astype(float)\n",
    "        df_merged['Share Count difference from prev day']=df_merged['shares_x']-df_merged['shares_y']\n",
    "        df_merged['market value($)']=df_merged['market value($)'].astype(float)\n",
    "        df_merged['Average Price']=df_merged['market value($)']/df_merged['shares_x']\n",
    "        Total_Portfolio_Valuation=df_merged['market value($)'].sum()\n",
    "        df_merged['% of ETF bought/sold']=df_merged['Share Count difference from prev day']*df_merged['Average Price']/Total_Portfolio_Valuation\n",
    "        df_merged['% of ETF bought/sold']=df_merged['% of ETF bought/sold'].map(lambda n: '{:.5%}'.format(n))\n",
    "    file_date=df_merged['date'].unique()[0]\n",
    "    file_date=pd.to_datetime(file_date)\n",
    "    file_date=str(file_date.strftime(\"%d-%m-%Y\"))\n",
    "    file_name=str(df_merged['fund'].unique()[0])\n",
    "    target_parent_directory=r'D:\\Ark Invest CSV daily trading records'\n",
    "\n",
    "#     path2=os.path.join(target_parent_directory, file_date)\n",
    "    path2=target_parent_directory\n",
    "#     print(path2)\n",
    "#     if not os.path.exists(path2):\n",
    "#         os.mkdir(path2)\n",
    "\n",
    "    file_name_full=path2 + '\\\\' + file_name + '.csv'\n",
    "    df_merged.to_csv(file_name_full, index=False)"
   ]
  },
  {
   "cell_type": "code",
   "execution_count": null,
   "metadata": {},
   "outputs": [],
   "source": []
  }
 ],
 "metadata": {
  "kernelspec": {
   "display_name": "Python 3",
   "language": "python",
   "name": "python3"
  },
  "language_info": {
   "codemirror_mode": {
    "name": "ipython",
    "version": 3
   },
   "file_extension": ".py",
   "mimetype": "text/x-python",
   "name": "python",
   "nbconvert_exporter": "python",
   "pygments_lexer": "ipython3",
   "version": "3.7.4"
  }
 },
 "nbformat": 4,
 "nbformat_minor": 4
}
